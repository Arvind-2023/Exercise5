{
 "cells": [
  {
   "cell_type": "code",
   "execution_count": 1,
   "metadata": {
    "id": "DmUvrelEZG1I"
   },
   "outputs": [
    {
     "name": "stderr",
     "output_type": "stream",
     "text": [
      "2023-08-08 14:54:31.577101: I tensorflow/tsl/cuda/cudart_stub.cc:28] Could not find cuda drivers on your machine, GPU will not be used.\n",
      "2023-08-08 14:54:31.611832: I tensorflow/tsl/cuda/cudart_stub.cc:28] Could not find cuda drivers on your machine, GPU will not be used.\n",
      "2023-08-08 14:54:31.612440: I tensorflow/core/platform/cpu_feature_guard.cc:182] This TensorFlow binary is optimized to use available CPU instructions in performance-critical operations.\n",
      "To enable the following instructions: AVX2 FMA, in other operations, rebuild TensorFlow with the appropriate compiler flags.\n",
      "2023-08-08 14:54:32.249889: W tensorflow/compiler/tf2tensorrt/utils/py_utils.cc:38] TF-TRT Warning: Could not find TensorRT\n"
     ]
    }
   ],
   "source": [
    "import pandas as pd\n",
    "import numpy as np\n",
    "import matplotlib.pyplot as plt\n",
    "import seaborn as sns; sns.set()\n",
    "import cv2\n",
    "from keras.datasets import cifar10\n",
    "from sklearn.preprocessing import OneHotEncoder\n",
    "from sklearn.metrics import confusion_matrix, accuracy_score\n",
    "from keras.layers import Conv2D, MaxPool2D, Flatten, Dense, Dropout\n",
    "from keras.models import Sequential, load_model\n",
    "from keras.callbacks import EarlyStopping\n",
    "from sklearn.svm import SVC \n",
    "from sklearn.discriminant_analysis import LinearDiscriminantAnalysis\n",
    "import xgboost as xgb\n",
    "from sklearn.ensemble import RandomForestClassifier\n",
    "from sklearn.naive_bayes import GaussianNB"
   ]
  },
  {
   "cell_type": "code",
   "execution_count": 2,
   "metadata": {
    "colab": {
     "base_uri": "https://localhost:8080/"
    },
    "id": "MkMRKikYZnuN",
    "outputId": "47de3157-b693-4acc-f006-0c1b14c80696"
   },
   "outputs": [],
   "source": [
    "(X_train, y_train), (X_test, y_test) = cifar10.load_data()"
   ]
  },
  {
   "cell_type": "code",
   "execution_count": 3,
   "metadata": {
    "colab": {
     "base_uri": "https://localhost:8080/"
    },
    "id": "MpyntKADhiFk",
    "outputId": "84447a0c-d56f-4eb1-f11d-e7cfea6c6503"
   },
   "outputs": [
    {
     "name": "stdout",
     "output_type": "stream",
     "text": [
      "shape of training data (X) (50000, 32, 32, 3)\n",
      "shape of training data(y) (50000, 1)\n",
      "shape of testing data(X) (10000, 32, 32, 3)\n",
      "shape of testing data(y) (10000, 1)\n"
     ]
    }
   ],
   "source": [
    "print(\"shape of training data (X)\" ,X_train.shape)\n",
    "print(\"shape of training data(y)\" ,y_train.shape)\n",
    "print(\"shape of testing data(X)\" ,X_test.shape)\n",
    "print(\"shape of testing data(y)\" ,y_test.shape)"
   ]
  },
  {
   "cell_type": "code",
   "execution_count": 4,
   "metadata": {
    "id": "Az5ddQhFiBlr"
   },
   "outputs": [],
   "source": [
    "X_train = np.array([cv2.cvtColor(image, cv2.COLOR_BGR2GRAY) for image in X_train])\n",
    "X_test = np.array([cv2.cvtColor(image, cv2.COLOR_BGR2GRAY) for image in X_test])"
   ]
  },
  {
   "cell_type": "code",
   "execution_count": 5,
   "metadata": {
    "colab": {
     "base_uri": "https://localhost:8080/"
    },
    "id": "QjE4U44diBv_",
    "outputId": "39ea26a5-63d8-4c64-b90e-09b76c1976d2"
   },
   "outputs": [
    {
     "name": "stdout",
     "output_type": "stream",
     "text": [
      "shape of training data (X) (50000, 32, 32)\n",
      "shape of testing data(X) (10000, 32, 32)\n"
     ]
    }
   ],
   "source": [
    "print(\"shape of training data (X)\" ,X_train.shape)\n",
    "print(\"shape of testing data(X)\" ,X_test.shape)"
   ]
  },
  {
   "cell_type": "code",
   "execution_count": 6,
   "metadata": {
    "id": "ZyuBwC6-is_T"
   },
   "outputs": [],
   "source": [
    "X_train  = X_train/255\n",
    "X_test  = X_test/255"
   ]
  },
  {
   "cell_type": "code",
   "execution_count": 7,
   "metadata": {
    "id": "YZ4zHFbVhlGB"
   },
   "outputs": [],
   "source": [
    "labels = ['airplane', 'automobile', 'bird', 'cat', 'deer', 'dog', 'frog', 'horse', 'ship', 'truck']\n",
    "\n",
    "ohe = OneHotEncoder(sparse=False)\n",
    "ohe.fit(y_train)\n",
    "\n",
    "y_train = ohe.transform(y_train)\n",
    "y_test = ohe.transform(y_test)"
   ]
  },
  {
   "cell_type": "code",
   "execution_count": 8,
   "metadata": {
    "id": "MEJ8OO68i8fU"
   },
   "outputs": [],
   "source": [
    "X_train = X_train.reshape(X_train.shape[0], X_train.shape[1], X_train.shape[2], 1)\n",
    "X_test = X_test.reshape(X_test.shape[0], X_test.shape[1], X_test.shape[2], 1)\n",
    "\n",
    "input_shape = (X_train.shape[1], X_train.shape[2], 1)"
   ]
  },
  {
   "cell_type": "code",
   "execution_count": 9,
   "metadata": {
    "id": "lcnb6rXNgoIE"
   },
   "outputs": [],
   "source": [
    "model = Sequential()\n",
    "model.add(Conv2D(16, (3, 3), activation='relu', strides=(1, 1), padding='same', input_shape=(32,32,1)))\n",
    "model.add(Conv2D(32, (3, 3), activation='relu', strides=(1, 1), padding='same'))\n",
    "model.add(Conv2D(64, (3, 3), activation='relu', strides=(1, 1), padding='same'))\n",
    "model.add(MaxPool2D((2, 2)))\n",
    "model.add(Conv2D(16, (3, 3), activation='relu', strides=(1, 1), padding='same'))\n",
    "model.add(Conv2D(32, (3, 3), activation='relu', strides=(1, 1), padding='same'))\n",
    "model.add(Conv2D(64, (3, 3), activation='relu', strides=(1, 1), padding='same'))\n",
    "model.add(MaxPool2D((2, 2)))\n",
    "model.add(Flatten())\n",
    "model.add(Dense(245, activation='relu'))\n",
    "model.add(Dropout(0.5))\n",
    "model.add(Dense(64, activation='relu'))\n",
    "model.add(Dense(64, activation='relu'))\n",
    "model.add(Dense(64, activation='relu'))\n",
    "model.add(Dense(10, activation='softmax'))\n",
    "\n",
    "model.compile(loss='categorical_crossentropy', optimizer='adam',metrics=['acc'])\n",
    "stop = EarlyStopping(monitor='val_loss', mode='min', verbose=1, patience=3)"
   ]
  },
  {
   "cell_type": "code",
   "execution_count": 10,
   "metadata": {
    "colab": {
     "base_uri": "https://localhost:8080/"
    },
    "id": "ETYyMJPcgoJu",
    "outputId": "79b4805c-0fbc-40c3-96d0-381d5b07d483"
   },
   "outputs": [
    {
     "name": "stdout",
     "output_type": "stream",
     "text": [
      "Epoch 1/5\n",
      "1563/1563 [==============================] - 104s 66ms/step - loss: 1.7618 - acc: 0.3443 - val_loss: 1.4476 - val_acc: 0.4729\n",
      "Epoch 2/5\n",
      "1563/1563 [==============================] - 105s 67ms/step - loss: 1.3542 - acc: 0.5150 - val_loss: 1.1902 - val_acc: 0.5747\n",
      "Epoch 3/5\n",
      "1563/1563 [==============================] - 106s 68ms/step - loss: 1.1394 - acc: 0.5984 - val_loss: 1.0090 - val_acc: 0.6531\n",
      "Epoch 4/5\n",
      "1563/1563 [==============================] - 106s 68ms/step - loss: 1.0176 - acc: 0.6456 - val_loss: 0.9656 - val_acc: 0.6657\n",
      "Epoch 5/5\n",
      "1563/1563 [==============================] - 107s 68ms/step - loss: 0.9294 - acc: 0.6785 - val_loss: 0.9297 - val_acc: 0.6793\n"
     ]
    }
   ],
   "source": [
    "history = model.fit(X_train.reshape(50000, 32, 32,1), y_train, epochs=5, \n",
    "                    batch_size=32, validation_data=(X_test.reshape(10000, 32, 32,1), y_test), callbacks=[stop])"
   ]
  },
  {
   "cell_type": "code",
   "execution_count": 11,
   "metadata": {
    "id": "kfk_szE-khED"
   },
   "outputs": [
    {
     "name": "stdout",
     "output_type": "stream",
     "text": [
      "313/313 [==============================] - 3s 9ms/step\n"
     ]
    }
   ],
   "source": [
    "cnn_pred = model.predict(X_test.reshape(10000,32,32,1))\n",
    "cnn_pred = ohe.inverse_transform(cnn_pred)"
   ]
  },
  {
   "cell_type": "code",
   "execution_count": 12,
   "metadata": {
    "id": "2uFnsAU5kiBR"
   },
   "outputs": [],
   "source": [
    "y_test = ohe.inverse_transform(y_test)"
   ]
  },
  {
   "cell_type": "code",
   "execution_count": 13,
   "metadata": {
    "colab": {
     "base_uri": "https://localhost:8080/"
    },
    "id": "kqPGZSGGklob",
    "outputId": "e41be1be-4e92-4613-9735-a0cb6b6adf44"
   },
   "outputs": [
    {
     "name": "stdout",
     "output_type": "stream",
     "text": [
      "Accuracy using CNN:  67.93\n"
     ]
    }
   ],
   "source": [
    "ac=accuracy_score(y_test , cnn_pred)\n",
    "print(\"Accuracy using CNN: \",ac*100)"
   ]
  },
  {
   "cell_type": "code",
   "execution_count": 14,
   "metadata": {
    "colab": {
     "base_uri": "https://localhost:8080/",
     "height": 557
    },
    "id": "N73695Bdk98s",
    "outputId": "f5d6734a-b39e-4898-ab0d-483b34ed72fb"
   },
   "outputs": [
    {
     "data": {
      "image/png": "[encoded data removed]",
      "text/plain": [
       "<Figure size 648x648 with 2 Axes>"
      ]
     },
     "metadata": {},
     "output_type": "display_data"
    }
   ],
   "source": [
    "plt.figure(figsize=(9,9))\n",
    "sns.heatmap(confusion_matrix(y_test, cnn_pred), fmt='d', annot=True, cmap=plt.cm.Purples)\n",
    "plt.xlabel('Predicted')\n",
    "plt.ylabel('Actual')\n",
    "plt.show()"
   ]
  },
  {
   "cell_type": "code",
   "execution_count": 15,
   "metadata": {
    "colab": {
     "base_uri": "https://localhost:8080/",
     "height": 609
    },
    "id": "HB_1JcOigoT7",
    "outputId": "34977535-1dfc-4219-902f-1d0ea929cb71"
   },
   "outputs": [
    {
     "data": {
      "image/png": "[encoded data removed]",
      "text/plain": [
       "<Figure size 648x648 with 1 Axes>"
      ]
     },
     "metadata": {},
     "output_type": "display_data"
    }
   ],
   "source": [
    "cm = confusion_matrix(y_test, cnn_pred)\n",
    "\n",
    "plt.figure(figsize=(9,9))\n",
    "sns.heatmap(cm, cbar=False, xticklabels=labels, yticklabels=labels, fmt='d', annot=True, cmap=plt.cm.Blues)\n",
    "plt.xlabel('Predicted')\n",
    "plt.ylabel('Actual')\n",
    "plt.show()"
   ]
  },
  {
   "cell_type": "code",
   "execution_count": 16,
   "metadata": {
    "id": "jNSObqwzmCrt"
   },
   "outputs": [],
   "source": [
    "arr=[]\n",
    "for i in X_train:\n",
    "  i=i.ravel()\n",
    "  arr.append(i)\n",
    "arr2=[]\n",
    "for i in X_test:\n",
    "  i=i.ravel()\n",
    "  arr2.append(i)"
   ]
  },
  {
   "cell_type": "code",
   "execution_count": 17,
   "metadata": {
    "colab": {
     "base_uri": "https://localhost:8080/"
    },
    "id": "DDCBjf5GmDHf",
    "outputId": "3cafe6d2-ab0d-4105-cfce-973550d4482a"
   },
   "outputs": [
    {
     "data": {
      "text/plain": [
       "(10000, 1024)"
      ]
     },
     "execution_count": 17,
     "metadata": {},
     "output_type": "execute_result"
    }
   ],
   "source": [
    "df_test=pd.DataFrame(arr2)\n",
    "df_test.shape"
   ]
  },
  {
   "cell_type": "code",
   "execution_count": 18,
   "metadata": {
    "id": "GW4zMecRmDIp"
   },
   "outputs": [],
   "source": [
    "df=pd.DataFrame(arr)"
   ]
  },
  {
   "cell_type": "code",
   "execution_count": 19,
   "metadata": {
    "colab": {
     "base_uri": "https://localhost:8080/"
    },
    "id": "Vem_mVm1qbcs",
    "outputId": "7b2f238c-7d4e-482d-84b1-a0bc5958f49e"
   },
   "outputs": [
    {
     "data": {
      "text/plain": [
       "(50000, 1024)"
      ]
     },
     "execution_count": 19,
     "metadata": {},
     "output_type": "execute_result"
    }
   ],
   "source": [
    "df.shape"
   ]
  },
  {
   "cell_type": "code",
   "execution_count": 20,
   "metadata": {
    "id": "mo4A5wq7mDN9"
   },
   "outputs": [],
   "source": [
    "data=pd.concat([df , df_test],axis=0)"
   ]
  },
  {
   "cell_type": "code",
   "execution_count": 21,
   "metadata": {
    "colab": {
     "base_uri": "https://localhost:8080/"
    },
    "id": "ZkYS1ky8mKeW",
    "outputId": "f486be66-383b-48c6-b786-1a20296657b5"
   },
   "outputs": [
    {
     "data": {
      "text/plain": [
       "(60000, 1024)"
      ]
     },
     "execution_count": 21,
     "metadata": {},
     "output_type": "execute_result"
    }
   ],
   "source": [
    "data.shape"
   ]
  },
  {
   "cell_type": "code",
   "execution_count": 22,
   "metadata": {
    "id": "u7iKI7fyrszm"
   },
   "outputs": [],
   "source": [
    "y_train=ohe.inverse_transform(y_train)"
   ]
  },
  {
   "cell_type": "code",
   "execution_count": null,
   "metadata": {
    "id": "75lRY56vgqG5"
   },
   "outputs": [],
   "source": [
    "svm=SVC(C=1.0, kernel='linear', gamma='scale', \n",
    "                cache_size=200, class_weight=None, verbose=True, max_iter=- 1,random_state=42)"
   ]
  },
  {
   "cell_type": "code",
   "execution_count": null,
   "metadata": {
    "id": "-OBFbpB5cGSu"
   },
   "outputs": [],
   "source": [
    "svm_pred=svm.predict(df_test)"
   ]
  },
  {
   "cell_type": "code",
   "execution_count": null,
   "metadata": {
    "id": "IyNeO1lkm0zo"
   },
   "outputs": [],
   "source": [
    "print(\"Accuracy using SVM classifier: \",accuracy_score(y_test , svm_pred)*100)"
   ]
  },
  {
   "cell_type": "code",
   "execution_count": null,
   "metadata": {
    "colab": {
     "base_uri": "https://localhost:8080/"
    },
    "id": "rnoFluWPZnvj",
    "outputId": "2164fd87-db61-41a3-b1e2-8f66b68686aa"
   },
   "outputs": [],
   "source": [
    "lda=LinearDiscriminantAnalysis()\n",
    "lda.fit(df, y_train.ravel())"
   ]
  },
  {
   "cell_type": "code",
   "execution_count": null,
   "metadata": {
    "id": "0igYFtm_ZnzH"
   },
   "outputs": [],
   "source": [
    "lda_pred=lda.predict(df_test)"
   ]
  },
  {
   "cell_type": "code",
   "execution_count": null,
   "metadata": {
    "colab": {
     "base_uri": "https://localhost:8080/"
    },
    "id": "425T3DtPZn0F",
    "outputId": "de7ac96e-7499-4ce3-9f16-6524009bf8eb"
   },
   "outputs": [],
   "source": [
    "print(\"Accuracy using LDA: \",accuracy_score(y_test , lda_pred)*100)"
   ]
  },
  {
   "cell_type": "code",
   "execution_count": null,
   "metadata": {
    "id": "6GuCOY8znbXv"
   },
   "outputs": [],
   "source": [
    "xgb_model = xgb.XGBClassifier(objective=\"multi:softprob\", random_state=42)\n",
    "xgb_model.fit(df, y_train.ravel())\n",
    "\n",
    "xg_pred = xgb_model.predict(df_test)"
   ]
  },
  {
   "cell_type": "code",
   "execution_count": null,
   "metadata": {
    "colab": {
     "base_uri": "https://localhost:8080/"
    },
    "id": "_vWQD2K0nbZi",
    "outputId": "e7909a5f-3a9f-4a75-98f3-c9d1cecb3fa7"
   },
   "outputs": [],
   "source": [
    "print(\"Accuracy using XGBoost: \", accuracy_score(y_test , xg_pred)*100)"
   ]
  },
  {
   "cell_type": "code",
   "execution_count": null,
   "metadata": {
    "colab": {
     "base_uri": "https://localhost:8080/"
    },
    "id": "Wl1aSpOtn66V",
    "outputId": "e39eaaa6-6356-440a-c857-d9236c55ab40"
   },
   "outputs": [],
   "source": [
    "rfc = RandomForestClassifier(n_estimators = 500, criterion = 'entropy', random_state = 42)\n",
    "rfc.fit(df, y_train.ravel())"
   ]
  },
  {
   "cell_type": "code",
   "execution_count": null,
   "metadata": {
    "id": "t1YBWv5Mn68I"
   },
   "outputs": [],
   "source": [
    "rfc_pred=rfc.predict(df_test)"
   ]
  },
  {
   "cell_type": "code",
   "execution_count": null,
   "metadata": {
    "colab": {
     "base_uri": "https://localhost:8080/"
    },
    "id": "z_XcmlZOtCb7",
    "outputId": "3728d59d-a083-4372-a55e-880061928799"
   },
   "outputs": [],
   "source": [
    "print(\"Accuracy using RF Classifier: \", accuracy_score(y_test , rfc_pred)*100)"
   ]
  },
  {
   "cell_type": "code",
   "execution_count": null,
   "metadata": {
    "id": "cGf0Q6Gwn7hT"
   },
   "outputs": [],
   "source": [
    "gnb = GaussianNB().fit(df, y_train.ravel())\n",
    "gnb_pred = gnb.predict(df_test)"
   ]
  },
  {
   "cell_type": "code",
   "execution_count": null,
   "metadata": {
    "id": "sioT_hbfn7i2"
   },
   "outputs": [],
   "source": [
    "acc = gnb.score(y_test, gnb_pred)"
   ]
  },
  {
   "cell_type": "code",
   "execution_count": null,
   "metadata": {
    "colab": {
     "base_uri": "https://localhost:8080/"
    },
    "id": "hoqa-ZO2tDxQ",
    "outputId": "ed4f3cee-2139-47d9-8fea-2e456a1fe26f"
   },
   "outputs": [],
   "source": [
    "print(\"Accuracy using Gaussian NB: \", acc*100)"
   ]
  },
  {
   "cell_type": "code",
   "execution_count": null,
   "metadata": {},
   "outputs": [],
   "source": []
  }
 ],
 "metadata": {
  "colab": {
   "collapsed_sections": [],
   "name": "CIFAR10_without_dimensionality_reduction.ipynb",
   "provenance": []
  },
  "kernelspec": {
   "display_name": "Python 3 (ipykernel)",
   "language": "python",
   "name": "python3"
  },
  "language_info": {
   "codemirror_mode": {
    "name": "ipython",
    "version": 3
   },
   "file_extension": ".py",
   "mimetype": "text/x-python",
   "name": "python",
   "nbconvert_exporter": "python",
   "pygments_lexer": "ipython3",
   "version": "3.9.7"
  }
 },
 "nbformat": 4,
 "nbformat_minor": 1
}
